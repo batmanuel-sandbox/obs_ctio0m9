{
 "cells": [
  {
   "cell_type": "code",
   "execution_count": 1,
   "metadata": {
    "collapsed": false
   },
   "outputs": [
    {
     "data": {
      "text/html": [
       "<style>.container { width:95% !important; }</style>"
      ],
      "text/plain": [
       "<IPython.core.display.HTML object>"
      ]
     },
     "execution_count": 1,
     "metadata": {},
     "output_type": "execute_result"
    }
   ],
   "source": [
    "from IPython.core.display import HTML\n",
    "HTML(\"<style>.container { width:95% !important; }</style>\")"
   ]
  },
  {
   "cell_type": "raw",
   "metadata": {},
   "source": [
    "Just imports and function definitions:"
   ]
  },
  {
   "cell_type": "code",
   "execution_count": 4,
   "metadata": {
    "collapsed": false
   },
   "outputs": [],
   "source": [
    "import shutil\n",
    "import os\n",
    "import filecmp\n",
    "import pyfits as pf\n",
    "import sys\n",
    "import glob\n",
    "import functions as fn\n",
    "# fn = reload(fn)\n",
    "\n",
    "def SafeCopy(src,dest):\n",
    "    if os.path.exists(dest):\n",
    "        print 'warning, tried to overwrite %s with %s'%(dest, src)\n",
    "        if filecmp.cmp(src, dest):\n",
    "            print 'but it\\'s OK, the files were the same anyway'\n",
    "        else:\n",
    "            print 'DISASTER - the files were different!\\n\\n\\n'\n",
    "    else:\n",
    "        shutil.copy(src,dest)\n",
    "        \n",
    "def SafeMove(src,dest):\n",
    "    if os.path.exists(dest):\n",
    "        print 'warning, tried to overwrite %s with %s'%(dest, src)\n",
    "        if filecmp.cmp(src, dest):\n",
    "            print 'but it\\'s OK, the files were the same anyway'\n",
    "        else:\n",
    "            print 'DISASTER - the files were different!\\n\\n\\n'\n",
    "    else:\n",
    "        shutil.move(src,dest)      \n",
    "\n",
    "\n",
    "def GetFilename(filename_or_path):\n",
    "    return str(filename_or_path).split('/')[-1]\n"
   ]
  },
  {
   "cell_type": "raw",
   "metadata": {},
   "source": [
    "Move files to a sanely named directory by hand.\n",
    "Files are renamed, prepending with the obs date to avoid collisions as filenames are not unique"
   ]
  },
  {
   "cell_type": "code",
   "execution_count": 5,
   "metadata": {
    "collapsed": true
   },
   "outputs": [],
   "source": [
    "source_path = '/nfs/lsst2/photocalData/data/ctio0m9/'\n",
    "dest_root_path = '/nfs/lsst2/photocalData/data/ctio0m9_sanitised/'"
   ]
  },
  {
   "cell_type": "code",
   "execution_count": 6,
   "metadata": {
    "collapsed": true
   },
   "outputs": [],
   "source": [
    "if not os.path.exists(dest_root_path): os.mkdir(dest_root_path)"
   ]
  },
  {
   "cell_type": "code",
   "execution_count": 7,
   "metadata": {
    "collapsed": false
   },
   "outputs": [
    {
     "data": {
      "text/plain": [
       "0"
      ]
     },
     "execution_count": 7,
     "metadata": {},
     "output_type": "execute_result"
    }
   ],
   "source": [
    "sys_call = 'cp -r %s* %s'%(source_path, dest_root_path)\n",
    "os.system(sys_call)"
   ]
  },
  {
   "cell_type": "code",
   "execution_count": 8,
   "metadata": {
    "collapsed": false
   },
   "outputs": [],
   "source": [
    "os.mkdir(dest_root_path + 'one_amp')\n",
    "os.mkdir(dest_root_path + 'two_amp')\n",
    "os.mkdir(dest_root_path + 'wrong_size')\n",
    "os.mkdir(dest_root_path + 'bad_files')"
   ]
  },
  {
   "cell_type": "raw",
   "metadata": {},
   "source": [
    "Find the fits files only in all subdirs"
   ]
  },
  {
   "cell_type": "code",
   "execution_count": 10,
   "metadata": {
    "collapsed": false
   },
   "outputs": [],
   "source": [
    "original_fileslist = []\n",
    "for path, subdirs, files in os.walk(dest_root_path):\n",
    "    for name in files:\n",
    "        if name.endswith('.fits'):\n",
    "            original_fileslist.append(os.path.join(path, name))"
   ]
  },
  {
   "cell_type": "raw",
   "metadata": {},
   "source": [
    "We know of some bad files, so let's move them out:"
   ]
  },
  {
   "cell_type": "code",
   "execution_count": 12,
   "metadata": {
    "collapsed": false
   },
   "outputs": [],
   "source": [
    "bad_match = ['fitstest.fits', 'test.fits', 'ut161210.f075.fits']\n",
    "pop_list = []\n",
    "for filename in original_fileslist:\n",
    "    for _ in bad_match:\n",
    "        if filename.find(_)!=-1:\n",
    "            dest_path = dest_root_path + 'bad_files/'\n",
    "            dest_filename = dest_path + '_from_' +filename.replace('/','_') #filenames are not unique\n",
    "            SafeMove(filename, dest_filename)\n",
    "            pop_list.append(filename)\n",
    "            print \"Moved: %s to \\n%s\"%(filename, dest_filename)\n",
    "            break # don't want to match twice per file\n",
    "            \n",
    "for popname in pop_list:\n",
    "    original_fileslist.remove(popname)\n"
   ]
  },
  {
   "cell_type": "code",
   "execution_count": 9,
   "metadata": {
    "collapsed": false
   },
   "outputs": [
    {
     "data": {
      "text/plain": [
       "3770"
      ]
     },
     "execution_count": 9,
     "metadata": {},
     "output_type": "execute_result"
    }
   ],
   "source": [
    "len(original_fileslist)"
   ]
  },
  {
   "cell_type": "code",
   "execution_count": 13,
   "metadata": {
    "collapsed": false
   },
   "outputs": [
    {
     "name": "stdout",
     "output_type": "stream",
     "text": [
      "loaded 0 of 3770\n",
      "loaded 500 of 3770\n",
      "loaded 1000 of 3770\n",
      "loaded 1500 of 3770\n",
      "loaded 2000 of 3770\n",
      "loaded 2500 of 3770\n",
      "loaded 3000 of 3770\n",
      "loaded 3500 of 3770\n",
      "finished loading headers\n"
     ]
    }
   ],
   "source": [
    "headers = {}\n",
    "\n",
    "nfiles = len(original_fileslist)\n",
    "for i, filename in enumerate(original_fileslist):\n",
    "    hdulist = pf.open(filename)\n",
    "    main_header = hdulist[0].header\n",
    "    headers[filename] = main_header\n",
    "    if i%500==0: print 'loaded %s of %s'%(i, nfiles)\n",
    "\n",
    "print 'finished loading headers'"
   ]
  },
  {
   "cell_type": "code",
   "execution_count": 14,
   "metadata": {
    "collapsed": false
   },
   "outputs": [
    {
     "name": "stdout",
     "output_type": "stream",
     "text": [
      "Moved 504 1-amp files\n"
     ]
    }
   ],
   "source": [
    "counter = 0\n",
    "for filename in headers.keys():\n",
    "    if headers[filename]['NAMPSYX']=='1 1':\n",
    "        SafeMove(filename, dest_root_path + 'one_amp/' + GetFilename(filename))\n",
    "        counter += 1\n",
    "        headers.pop(filename)\n",
    "print 'Moved %s 1-amp files'%counter"
   ]
  },
  {
   "cell_type": "code",
   "execution_count": 15,
   "metadata": {
    "collapsed": false
   },
   "outputs": [
    {
     "name": "stdout",
     "output_type": "stream",
     "text": [
      "Moved 47 2-amp files\n"
     ]
    }
   ],
   "source": [
    "counter = 0\n",
    "for filename in headers.keys():\n",
    "    if headers[filename]['NAMPSYX']=='1 2':\n",
    "        SafeMove(filename, dest_root_path + 'two_amp/' + GetFilename(filename))\n",
    "        counter += 1\n",
    "        headers.pop(filename)\n",
    "print 'Moved %s 2-amp files'%counter"
   ]
  },
  {
   "cell_type": "raw",
   "metadata": {},
   "source": [
    "Now, this is really grossly hacky, but all these files are going to have visit numbers created when they're ingested by the stack, and I've already been through and used these visit numbers to find out the flats that aren't flat, so I'm going to recreate those same visit numbers here:"
   ]
  },
  {
   "cell_type": "code",
   "execution_count": 16,
   "metadata": {
    "collapsed": false
   },
   "outputs": [],
   "source": [
    "import lsst.daf.base as dafBase\n",
    "import re"
   ]
  },
  {
   "cell_type": "code",
   "execution_count": 18,
   "metadata": {
    "collapsed": false
   },
   "outputs": [],
   "source": [
    "for filename in headers.keys():\n",
    "    date_obs = headers[filename]['DATE-OBS']\n",
    "    try: # see if compliant. Don't use, just a test with dafBase\n",
    "        dt = dafBase.DateTime(date_obs, dafBase.DateTime.TAI)\n",
    "    except: #if bad, sanitise\n",
    "        year, month, day, h, m, s = re.split(r\"[-:T]\", date_obs)\n",
    "        if re.search(r\"[A-Z]$\", s):\n",
    "            s, TZ = s[:-1], s[-1]\n",
    "        else:\n",
    "            TZ = \"\"\n",
    "\n",
    "        date_obs = \"%4d-%02d-%02dT%02d:%02d:%06.3f%s\" % (int(year), int(month), int(day),\n",
    "                                                         int(h),    int(m),     float(s), TZ)\n",
    "\n",
    "\n",
    "\n",
    "    dt = dafBase.DateTime(date_obs, dafBase.DateTime.TAI)\n",
    "    mjd = dt.get(dafBase.DateTime.MJD) # MJD is actually the default\n",
    "    mmjd = mjd - 55197              # relative to 2010-01-01, just to make the visits a tiny bit smaller\n",
    "    visitnum = int(1e5*mmjd)\n",
    "    headers[filename]['VISIT'] = visitnum"
   ]
  },
  {
   "cell_type": "raw",
   "metadata": {},
   "source": [
    "Visit numbers below were chosen out of thousands - the others were all too flat (big points if you get the reference)."
   ]
  },
  {
   "cell_type": "code",
   "execution_count": 19,
   "metadata": {
    "collapsed": true
   },
   "outputs": [],
   "source": [
    "not_flats = [242799586,242799639,242799691,242799753,242799806,242799859,\n",
    "             242799920,242799973,242800026,242800090,242800141,242800193,\n",
    "             242800253,242800305,242800356,242800417,242800468,242800520,\n",
    "             251816830,251816927,251817023,251817129,251817353,251817577,\n",
    "             251817810,251817907,251818003,251819151,251819248,251819248,\n",
    "             251819450,251819674,251819898,251820131,251820228,251820324,\n",
    "             251820461,251820558,251820655,251820760,251820984,251821208,\n",
    "             251821441,251821538,251821635,251821849,251821946,251822042,\n",
    "             251822148,251822372,251822596,251822829,251822926,251823022,\n",
    "             251823165,251823262,251823359,251823464,251823688,251823912,\n",
    "             251824145,251824242,251824339,251824477,251824573,251824669,\n",
    "             251824775,251824999,251825223,251825456,251825553,251825649]"
   ]
  },
  {
   "cell_type": "code",
   "execution_count": 21,
   "metadata": {
    "collapsed": false,
    "scrolled": true
   },
   "outputs": [
    {
     "name": "stdout",
     "output_type": "stream",
     "text": [
      "Pathced header in /nfs/lsst2/photocalData/data/ctio0m9_sanitised/november2016/n1/f107.fits\n",
      "Pathced header in /nfs/lsst2/photocalData/data/ctio0m9_sanitised/november2016/n1/f123.fits\n",
      "Pathced header in /nfs/lsst2/photocalData/data/ctio0m9_sanitised/november2016/n1/f085.fits\n",
      "Pathced header in /nfs/lsst2/photocalData/data/ctio0m9_sanitised/november2016/n1/f118.fits\n",
      "Pathced header in /nfs/lsst2/photocalData/data/ctio0m9_sanitised/november2016/n1/f115.fits\n",
      "Pathced header in /nfs/lsst2/photocalData/data/ctio0m9_sanitised/november2016/n1/f083.fits\n",
      "Pathced header in /nfs/lsst2/photocalData/data/ctio0m9_sanitised/november2016/n1/f126.fits\n",
      "Pathced header in /nfs/lsst2/photocalData/data/ctio0m9_sanitised/august2016/n3/fileno568.fits\n",
      "Pathced header in /nfs/lsst2/photocalData/data/ctio0m9_sanitised/f121.fits\n",
      "Pathced header in /nfs/lsst2/photocalData/data/ctio0m9_sanitised/august2016/n3/fileno559.fits\n",
      "Pathced header in /nfs/lsst2/photocalData/data/ctio0m9_sanitised/november2016/n1/f128.fits\n",
      "Pathced header in /nfs/lsst2/photocalData/data/ctio0m9_sanitised/august2016/n3/fileno565.fits\n",
      "Pathced header in /nfs/lsst2/photocalData/data/ctio0m9_sanitised/november2016/n1/f124.fits\n",
      "Pathced header in /nfs/lsst2/photocalData/data/ctio0m9_sanitised/november2016/n1/f086.fits\n",
      "Pathced header in /nfs/lsst2/photocalData/data/ctio0m9_sanitised/f125.fits\n",
      "Pathced header in /nfs/lsst2/photocalData/data/ctio0m9_sanitised/f126.fits\n",
      "Pathced header in /nfs/lsst2/photocalData/data/ctio0m9_sanitised/november2016/n1/f135.fits\n",
      "Pathced header in /nfs/lsst2/photocalData/data/ctio0m9_sanitised/november2016/n1/f111.fits\n",
      "Pathced header in /nfs/lsst2/photocalData/data/ctio0m9_sanitised/november2016/n1/f104.fits\n",
      "Pathced header in /nfs/lsst2/photocalData/data/ctio0m9_sanitised/november2016/n1/f092.fits\n",
      "Pathced header in /nfs/lsst2/photocalData/data/ctio0m9_sanitised/f123.fits\n",
      "Pathced header in /nfs/lsst2/photocalData/data/ctio0m9_sanitised/august2016/n3/fileno554.fits\n",
      "Pathced header in /nfs/lsst2/photocalData/data/ctio0m9_sanitised/november2016/n1/f114.fits\n",
      "Pathced header in /nfs/lsst2/photocalData/data/ctio0m9_sanitised/november2016/n1/f134.fits\n",
      "Pathced header in /nfs/lsst2/photocalData/data/ctio0m9_sanitised/august2016/n3/fileno564.fits\n",
      "Pathced header in /nfs/lsst2/photocalData/data/ctio0m9_sanitised/f135.fits\n",
      "Pathced header in /nfs/lsst2/photocalData/data/ctio0m9_sanitised/november2016/n1/f131.fits\n",
      "Pathced header in /nfs/lsst2/photocalData/data/ctio0m9_sanitised/november2016/n1/f117.fits\n",
      "Pathced header in /nfs/lsst2/photocalData/data/ctio0m9_sanitised/f132.fits\n",
      "Pathced header in /nfs/lsst2/photocalData/data/ctio0m9_sanitised/f092.fits\n",
      "Pathced header in /nfs/lsst2/photocalData/data/ctio0m9_sanitised/f115.fits\n",
      "Pathced header in /nfs/lsst2/photocalData/data/ctio0m9_sanitised/f091.fits\n",
      "Pathced header in /nfs/lsst2/photocalData/data/ctio0m9_sanitised/f111.fits\n",
      "Pathced header in /nfs/lsst2/photocalData/data/ctio0m9_sanitised/august2016/n3/fileno557.fits\n",
      "Pathced header in /nfs/lsst2/photocalData/data/ctio0m9_sanitised/f099.fits\n",
      "Pathced header in /nfs/lsst2/photocalData/data/ctio0m9_sanitised/august2016/n3/fileno571.fits\n",
      "Pathced header in /nfs/lsst2/photocalData/data/ctio0m9_sanitised/f100.fits\n",
      "Pathced header in /nfs/lsst2/photocalData/data/ctio0m9_sanitised/f103.fits\n",
      "Pathced header in /nfs/lsst2/photocalData/data/ctio0m9_sanitised/november2016/n1/f088.fits\n",
      "Pathced header in /nfs/lsst2/photocalData/data/ctio0m9_sanitised/november2016/n1/f096.fits\n",
      "Pathced header in /nfs/lsst2/photocalData/data/ctio0m9_sanitised/november2016/n1/f122.fits\n",
      "Pathced header in /nfs/lsst2/photocalData/data/ctio0m9_sanitised/f114.fits\n",
      "Pathced header in /nfs/lsst2/photocalData/data/ctio0m9_sanitised/august2016/n3/fileno569.fits\n",
      "Pathced header in /nfs/lsst2/photocalData/data/ctio0m9_sanitised/november2016/n1/f100.fits\n",
      "Pathced header in /nfs/lsst2/photocalData/data/ctio0m9_sanitised/f124.fits\n",
      "Pathced header in /nfs/lsst2/photocalData/data/ctio0m9_sanitised/f122.fits\n",
      "Pathced header in /nfs/lsst2/photocalData/data/ctio0m9_sanitised/f118.fits\n",
      "Pathced header in /nfs/lsst2/photocalData/data/ctio0m9_sanitised/f133.fits\n",
      "Pathced header in /nfs/lsst2/photocalData/data/ctio0m9_sanitised/august2016/n3/fileno561.fits\n",
      "Pathced header in /nfs/lsst2/photocalData/data/ctio0m9_sanitised/november2016/n1/f098.fits\n",
      "Pathced header in /nfs/lsst2/photocalData/data/ctio0m9_sanitised/november2016/n1/f110.fits\n",
      "Pathced header in /nfs/lsst2/photocalData/data/ctio0m9_sanitised/f130.fits\n",
      "Pathced header in /nfs/lsst2/photocalData/data/ctio0m9_sanitised/november2016/n1/f119.fits\n",
      "Pathced header in /nfs/lsst2/photocalData/data/ctio0m9_sanitised/november2016/n1/f133.fits\n",
      "Pathced header in /nfs/lsst2/photocalData/data/ctio0m9_sanitised/november2016/n1/f101.fits\n",
      "Pathced header in /nfs/lsst2/photocalData/data/ctio0m9_sanitised/august2016/n3/fileno556.fits\n",
      "Pathced header in /nfs/lsst2/photocalData/data/ctio0m9_sanitised/f128.fits\n",
      "Pathced header in /nfs/lsst2/photocalData/data/ctio0m9_sanitised/november2016/n1/f099.fits\n",
      "Pathced header in /nfs/lsst2/photocalData/data/ctio0m9_sanitised/f098.fits\n",
      "Pathced header in /nfs/lsst2/photocalData/data/ctio0m9_sanitised/august2016/n3/fileno570.fits\n",
      "Pathced header in /nfs/lsst2/photocalData/data/ctio0m9_sanitised/august2016/n3/fileno567.fits\n",
      "Pathced header in /nfs/lsst2/photocalData/data/ctio0m9_sanitised/november2016/n1/f112.fits\n",
      "Pathced header in /nfs/lsst2/photocalData/data/ctio0m9_sanitised/november2016/n1/f113.fits\n",
      "Pathced header in /nfs/lsst2/photocalData/data/ctio0m9_sanitised/november2016/n1/f097.fits\n",
      "Pathced header in /nfs/lsst2/photocalData/data/ctio0m9_sanitised/november2016/n1/f116.fits\n",
      "Pathced header in /nfs/lsst2/photocalData/data/ctio0m9_sanitised/august2016/n3/fileno558.fits\n",
      "Pathced header in /nfs/lsst2/photocalData/data/ctio0m9_sanitised/f119.fits\n",
      "Pathced header in /nfs/lsst2/photocalData/data/ctio0m9_sanitised/f096.fits\n",
      "Pathced header in /nfs/lsst2/photocalData/data/ctio0m9_sanitised/november2016/n1/f129.fits\n",
      "Pathced header in /nfs/lsst2/photocalData/data/ctio0m9_sanitised/f104.fits\n",
      "Pathced header in /nfs/lsst2/photocalData/data/ctio0m9_sanitised/f127.fits\n",
      "Pathced header in /nfs/lsst2/photocalData/data/ctio0m9_sanitised/f094.fits\n",
      "Pathced header in /nfs/lsst2/photocalData/data/ctio0m9_sanitised/november2016/n1/f102.fits\n",
      "Pathced header in /nfs/lsst2/photocalData/data/ctio0m9_sanitised/f117.fits\n",
      "Pathced header in /nfs/lsst2/photocalData/data/ctio0m9_sanitised/november2016/n1/f109.fits\n",
      "Pathced header in /nfs/lsst2/photocalData/data/ctio0m9_sanitised/f129.fits\n",
      "Pathced header in /nfs/lsst2/photocalData/data/ctio0m9_sanitised/f097.fits\n",
      "Pathced header in /nfs/lsst2/photocalData/data/ctio0m9_sanitised/f131.fits\n",
      "Pathced header in /nfs/lsst2/photocalData/data/ctio0m9_sanitised/november2016/n1/f105.fits\n",
      "Pathced header in /nfs/lsst2/photocalData/data/ctio0m9_sanitised/november2016/n1/f094.fits\n",
      "Pathced header in /nfs/lsst2/photocalData/data/ctio0m9_sanitised/f106.fits\n",
      "Pathced header in /nfs/lsst2/photocalData/data/ctio0m9_sanitised/f105.fits\n",
      "Pathced header in /nfs/lsst2/photocalData/data/ctio0m9_sanitised/august2016/n3/fileno563.fits\n",
      "Pathced header in /nfs/lsst2/photocalData/data/ctio0m9_sanitised/f101.fits\n",
      "Pathced header in /nfs/lsst2/photocalData/data/ctio0m9_sanitised/f113.fits\n",
      "Pathced header in /nfs/lsst2/photocalData/data/ctio0m9_sanitised/august2016/n3/fileno566.fits\n",
      "Pathced header in /nfs/lsst2/photocalData/data/ctio0m9_sanitised/november2016/n1/f121.fits\n",
      "Pathced header in /nfs/lsst2/photocalData/data/ctio0m9_sanitised/november2016/n1/f095.fits\n",
      "Pathced header in /nfs/lsst2/photocalData/data/ctio0m9_sanitised/f134.fits\n",
      "Pathced header in /nfs/lsst2/photocalData/data/ctio0m9_sanitised/november2016/n1/f130.fits\n",
      "Pathced header in /nfs/lsst2/photocalData/data/ctio0m9_sanitised/f116.fits\n",
      "Pathced header in /nfs/lsst2/photocalData/data/ctio0m9_sanitised/november2016/n1/f084.fits\n",
      "Pathced header in /nfs/lsst2/photocalData/data/ctio0m9_sanitised/november2016/n1/f087.fits\n",
      "Pathced header in /nfs/lsst2/photocalData/data/ctio0m9_sanitised/f095.fits\n",
      "Pathced header in /nfs/lsst2/photocalData/data/ctio0m9_sanitised/f109.fits\n",
      "Pathced header in /nfs/lsst2/photocalData/data/ctio0m9_sanitised/november2016/n1/f089.fits\n",
      "Pathced header in /nfs/lsst2/photocalData/data/ctio0m9_sanitised/f110.fits\n",
      "Pathced header in /nfs/lsst2/photocalData/data/ctio0m9_sanitised/f107.fits\n",
      "Pathced header in /nfs/lsst2/photocalData/data/ctio0m9_sanitised/november2016/n1/f127.fits\n",
      "Pathced header in /nfs/lsst2/photocalData/data/ctio0m9_sanitised/november2016/n1/f091.fits\n",
      "Pathced header in /nfs/lsst2/photocalData/data/ctio0m9_sanitised/august2016/n3/fileno555.fits\n",
      "Pathced header in /nfs/lsst2/photocalData/data/ctio0m9_sanitised/november2016/n1/f108.fits\n",
      "Pathced header in /nfs/lsst2/photocalData/data/ctio0m9_sanitised/november2016/n1/f125.fits\n",
      "Pathced header in /nfs/lsst2/photocalData/data/ctio0m9_sanitised/f120.fits\n",
      "Pathced header in /nfs/lsst2/photocalData/data/ctio0m9_sanitised/f112.fits\n",
      "Pathced header in /nfs/lsst2/photocalData/data/ctio0m9_sanitised/august2016/n3/fileno560.fits\n",
      "Pathced header in /nfs/lsst2/photocalData/data/ctio0m9_sanitised/november2016/n1/f082.fits\n",
      "Pathced header in /nfs/lsst2/photocalData/data/ctio0m9_sanitised/august2016/n3/fileno562.fits\n",
      "Pathced header in /nfs/lsst2/photocalData/data/ctio0m9_sanitised/november2016/n1/f106.fits\n",
      "Pathced header in /nfs/lsst2/photocalData/data/ctio0m9_sanitised/november2016/n1/f120.fits\n",
      "Pathced header in /nfs/lsst2/photocalData/data/ctio0m9_sanitised/november2016/n1/f090.fits\n",
      "Pathced header in /nfs/lsst2/photocalData/data/ctio0m9_sanitised/f108.fits\n",
      "Pathced header in /nfs/lsst2/photocalData/data/ctio0m9_sanitised/november2016/n1/f132.fits\n",
      "Pathced header in /nfs/lsst2/photocalData/data/ctio0m9_sanitised/november2016/n1/f103.fits\n",
      "Pathced header in /nfs/lsst2/photocalData/data/ctio0m9_sanitised/f102.fits\n",
      "Finished patching non-flat headers\n"
     ]
    }
   ],
   "source": [
    "for filename in headers.keys():\n",
    "    if headers[filename]['VISIT'] in not_flats:\n",
    "        this_file = pf.open(filename, mode='update')\n",
    "        this_header = this_file[0].header\n",
    "        this_header['IMAGETYP'] = 'OBJECT' # patch header\n",
    "        headers[filename]['IMAGETYP'] = 'OBJECT' # reflect patch in our dict\n",
    "        this_file.flush()\n",
    "        this_file.close()\n",
    "        print 'Pathced header in %s'%filename\n",
    "print 'Finished patching non-flat headers'"
   ]
  },
  {
   "cell_type": "raw",
   "metadata": {},
   "source": [
    "Loop over all the objects and sort them out according to this dict:"
   ]
  },
  {
   "cell_type": "code",
   "execution_count": 22,
   "metadata": {
    "collapsed": false
   },
   "outputs": [],
   "source": [
    "conversion = {'HD108344': 'HD108344',\n",
    "              'HD108344_dip': 'HD108344',\n",
    "              'HD108344_disp': 'HD108344',\n",
    "              'HD108344_disp_I': 'HD108344',\n",
    "              'HD108344_disp_R': 'HD108344',\n",
    "              'HD108344_disp_U': 'HD108344',\n",
    "              'HD108344_disp_V': 'HD108344',\n",
    "              'HD108344_disp_b': 'HD108344',\n",
    "              'HD108344_undisp': 'HD108344',\n",
    "              'HD108344_undisp_U': 'HD108344',\n",
    "              'HD108344_undisp_b': 'HD108344',\n",
    "              'HD14943': 'HD14943',\n",
    "              'HD14943-tests': 'HD14943',\n",
    "              'HD185975': 'HD185975',\n",
    "              'HD200654': 'HD200654',\n",
    "              'HD205905': 'HD205905',\n",
    "              'HD60753': 'HD60753',\n",
    "              'HD60753-tests': 'HD60753',\n",
    "              'HD7950': 'HD7950', ##############################\n",
    "              'HR7950': 'HD7950', ##############################\n",
    "              'HEN2-5': 'HEN2-5',\n",
    "              'HIP42334_disp': 'HIP42334',\n",
    "              'HIP59950_disp': 'HIP59950',\n",
    "              'HIP59950_undisp': 'HIP59950',\n",
    "              'HIP_42334_undisp': 'HIP_42334',\n",
    "              'HR108344_disp': 'HR108344',\n",
    "              'HR2160': 'HR2160',\n",
    "              'HR2160_disp': 'HR2160',\n",
    "              'HR2160_undisp': 'HR2160',\n",
    "              'HR9087': 'HR9087',\n",
    "              'LamLap_disp': 'LamLep',\n",
    "              'LamLap_undisp': 'LamLep',\n",
    "              'LamLec_disp': 'LamLep',\n",
    "              'LamLec_undisp': 'LamLep',\n",
    "              'LamLep_disp': 'LamLep',\n",
    "              'LamLep_dispersed': 'LamLep',\n",
    "              'LamLep_undisp': 'LamLep',\n",
    "              'LamLep_undispersed': 'LamLep',\n",
    "              'MUCOL': 'MUCOL',\n",
    "              'MuCol': 'MUCOL',\n",
    "              'beta_vir_disp': 'beta_vir',\n",
    "              'beta_cir_undisp': 'beta_vir',\n",
    "              'image': 'image',\n",
    "              'pct0.5': 'PTC',\n",
    "              'pct1.0': 'PTC',\n",
    "              'pct3.0': 'PTC',\n",
    "              'pct5.0': 'PTC',\n",
    "              'pct7.0': 'PTC',\n",
    "              'PTC R': 'PTC',\n",
    "              'stdfield_test': 'stdfield_test',\n",
    "              'test': 'test',\n",
    "              'test_mono_flat_off': 'test_mono_flat_off',\n",
    "              'test_mono_flat_on': 'test_mono_flat_on',\n",
    "              'tests-ronchi': 'tests-ronchi',\n",
    "              }"
   ]
  },
  {
   "cell_type": "code",
   "execution_count": 23,
   "metadata": {
    "collapsed": false,
    "scrolled": false
   },
   "outputs": [
    {
     "name": "stdout",
     "output_type": "stream",
     "text": [
      "Finished patching OBJECT headers\n"
     ]
    }
   ],
   "source": [
    "untouched = []\n",
    "\n",
    "for filename in headers.keys():\n",
    "    this_file = pf.open(filename, mode='update')\n",
    "    this_header = this_file[0].header\n",
    "    old_object = this_header['OBJECT']\n",
    "    if old_object in conversion.keys():\n",
    "#         print 'would have changed %s to %s'%(old_object, conversion[old_object])\n",
    "        this_header['OBJECT'] = conversion[old_object] # patch header\n",
    "        headers[filename]['OBJECT'] = conversion[old_object] # reflect patch in our dict\n",
    "        this_file.flush()\n",
    "        this_file.close()\n",
    "    else:\n",
    "        untouched.append(old_object)\n",
    "print 'Finished patching OBJECT headers'"
   ]
  },
  {
   "cell_type": "code",
   "execution_count": 31,
   "metadata": {
    "collapsed": false,
    "scrolled": false
   },
   "outputs": [
    {
     "name": "stdout",
     "output_type": "stream",
     "text": [
      "400_disp_on\n",
      "450_disp_off\n",
      "450_disp_on\n",
      "450_undisp_off\n",
      "450_undisp_on\n",
      "500_disp_off\n",
      "500_disp_on\n",
      "500_off\n",
      "500_on\n",
      "500_undisp_off\n",
      "500_undisp_on\n",
      "550_disp_off\n",
      "550_disp_on\n",
      "550_off\n",
      "550_on\n",
      "550_undisp_off\n",
      "550_undisp_on\n",
      "600_disp_off\n",
      "600_disp_on\n",
      "600_undisp_off\n",
      "600_undisp_on\n",
      "650_disp_off\n",
      "650_disp_on\n",
      "650_off\n",
      "650_on\n",
      "650_undisp_off\n",
      "650_undisp_on\n",
      "700_disp_on\n",
      "700_undisp_off\n",
      "700_undisp_on\n",
      "750_disp_off\n",
      "750_disp_on\n",
      "750_off\n",
      "750_on\n",
      "750_undisp_off\n",
      "750_undisp_on\n",
      "850_disp_off\n",
      "850_disp_on\n",
      "850_off\n",
      "850_on\n",
      "850_undisp_off\n",
      "850_undisp_on\n",
      "950_disp_off\n",
      "950_disp_on\n",
      "950_off\n",
      "950_on\n",
      "950_undisp_off\n",
      "950_undisp_on\n",
      "Bias\n",
      "CCDMJ_disp\n",
      "Dark\n",
      "FLAT G\n",
      "FLAT SEMROCK\n",
      "FLAT Z\n",
      "bias\n",
      "bias_n8\n",
      "crosstalk bottom left\n",
      "crosstalk bottom right\n",
      "crosstalk upper left\n",
      "crosstalk upper right\n",
      "dark_n8\n",
      "dflat_nofilter\n",
      "dispersed_dome_flat_01.0\n",
      "dome_flat_disp_I\n",
      "dome_flat_dispersed\n",
      "dome_flat_undisp_I\n",
      "dome_flat_undispersed\n",
      "focus=16.4C\n",
      "g_flat\n",
      "i_flat\n",
      "r_flat\n",
      "semrock + dia\n",
      "semrock+ronchi_flat\n",
      "semrock_flat\n",
      "undispersed_dome_flat_01.0\n",
      "z_flat\n",
      "zero\n"
     ]
    }
   ],
   "source": [
    "untouched = set(untouched)\n",
    "print \"Files with the followed OBJECT values were not modified:\"\n",
    "for _ in sorted(untouched):\n",
    "    print _"
   ]
  }
 ],
 "metadata": {
  "kernelspec": {
   "display_name": "Python 2",
   "language": "python",
   "name": "python2"
  },
  "language_info": {
   "codemirror_mode": {
    "name": "ipython",
    "version": 2
   },
   "file_extension": ".py",
   "mimetype": "text/x-python",
   "name": "python",
   "nbconvert_exporter": "python",
   "pygments_lexer": "ipython2",
   "version": "2.7.13"
  }
 },
 "nbformat": 4,
 "nbformat_minor": 0
}
